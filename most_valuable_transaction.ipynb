{
 "cells": [
  {
   "cell_type": "code",
   "execution_count": 3,
   "metadata": {},
   "outputs": [],
   "source": [
    "import pandas as pd \n",
    "import seaborn as sns\n",
    "import matplotlib.pyplot as plt"
   ]
  },
  {
   "cell_type": "code",
   "execution_count": 4,
   "metadata": {},
   "outputs": [],
   "source": [
    "transactions = pd.read_csv('data/dataset-transactions.csv', sep = ';')\n",
    "frauds = pd.read_csv('data/dataset-frauds.csv', sep = ';')"
   ]
  },
  {
   "cell_type": "code",
   "execution_count": 5,
   "metadata": {},
   "outputs": [
    {
     "data": {
      "text/html": [
       "<div>\n",
       "<style scoped>\n",
       "    .dataframe tbody tr th:only-of-type {\n",
       "        vertical-align: middle;\n",
       "    }\n",
       "\n",
       "    .dataframe tbody tr th {\n",
       "        vertical-align: top;\n",
       "    }\n",
       "\n",
       "    .dataframe thead th {\n",
       "        text-align: right;\n",
       "    }\n",
       "</style>\n",
       "<table border=\"1\" class=\"dataframe\">\n",
       "  <thead>\n",
       "    <tr style=\"text-align: right;\">\n",
       "      <th></th>\n",
       "      <th>id</th>\n",
       "      <th>card_number</th>\n",
       "      <th>transaction_date</th>\n",
       "      <th>value</th>\n",
       "      <th>segment</th>\n",
       "    </tr>\n",
       "  </thead>\n",
       "  <tbody>\n",
       "    <tr>\n",
       "      <th>0</th>\n",
       "      <td>CTID20567160</td>\n",
       "      <td>3295-6390-4452-7199</td>\n",
       "      <td>2016-10-08</td>\n",
       "      <td>49155</td>\n",
       "      <td>SEG16</td>\n",
       "    </tr>\n",
       "    <tr>\n",
       "      <th>1</th>\n",
       "      <td>CTID15034243</td>\n",
       "      <td>4562-2665-7578-1931</td>\n",
       "      <td>2016-02-14</td>\n",
       "      <td>48845</td>\n",
       "      <td>SEG19</td>\n",
       "    </tr>\n",
       "    <tr>\n",
       "      <th>2</th>\n",
       "      <td>CTID95884307</td>\n",
       "      <td>2017-7197-7814-9950</td>\n",
       "      <td>2016-11-07</td>\n",
       "      <td>48588</td>\n",
       "      <td>SEG16</td>\n",
       "    </tr>\n",
       "    <tr>\n",
       "      <th>3</th>\n",
       "      <td>CTID54759604</td>\n",
       "      <td>8262-8743-6406-7105</td>\n",
       "      <td>2016-09-07</td>\n",
       "      <td>48567</td>\n",
       "      <td>SEG20</td>\n",
       "    </tr>\n",
       "    <tr>\n",
       "      <th>4</th>\n",
       "      <td>CTID55429304</td>\n",
       "      <td>9030-1667-6058-6173</td>\n",
       "      <td>2016-03-03</td>\n",
       "      <td>48514</td>\n",
       "      <td>SEG15</td>\n",
       "    </tr>\n",
       "    <tr>\n",
       "      <th>...</th>\n",
       "      <td>...</td>\n",
       "      <td>...</td>\n",
       "      <td>...</td>\n",
       "      <td>...</td>\n",
       "      <td>...</td>\n",
       "    </tr>\n",
       "    <tr>\n",
       "      <th>104</th>\n",
       "      <td>CTID92439353</td>\n",
       "      <td>8159-1257-4706-7544</td>\n",
       "      <td>2016-01-17</td>\n",
       "      <td>5079</td>\n",
       "      <td>SEG11</td>\n",
       "    </tr>\n",
       "    <tr>\n",
       "      <th>105</th>\n",
       "      <td>CTID43014391</td>\n",
       "      <td>8106-9789-1679-2552</td>\n",
       "      <td>2016-01-19</td>\n",
       "      <td>4195</td>\n",
       "      <td>SEG25</td>\n",
       "    </tr>\n",
       "    <tr>\n",
       "      <th>106</th>\n",
       "      <td>CTID56692687</td>\n",
       "      <td>3620-5235-2101-3391</td>\n",
       "      <td>2016-12-15</td>\n",
       "      <td>2211</td>\n",
       "      <td>SEG22</td>\n",
       "    </tr>\n",
       "    <tr>\n",
       "      <th>107</th>\n",
       "      <td>CTID52594996</td>\n",
       "      <td>8228-6661-8736-2838</td>\n",
       "      <td>2016-08-14</td>\n",
       "      <td>1570</td>\n",
       "      <td>SEG17</td>\n",
       "    </tr>\n",
       "    <tr>\n",
       "      <th>108</th>\n",
       "      <td>CTID26555772</td>\n",
       "      <td>5734-5619-8469-4044</td>\n",
       "      <td>2016-01-11</td>\n",
       "      <td>683</td>\n",
       "      <td>SEG22</td>\n",
       "    </tr>\n",
       "  </tbody>\n",
       "</table>\n",
       "<p>109 rows × 5 columns</p>\n",
       "</div>"
      ],
      "text/plain": [
       "               id          card_number transaction_date  value segment\n",
       "0    CTID20567160  3295-6390-4452-7199       2016-10-08  49155   SEG16\n",
       "1    CTID15034243  4562-2665-7578-1931       2016-02-14  48845   SEG19\n",
       "2    CTID95884307  2017-7197-7814-9950       2016-11-07  48588   SEG16\n",
       "3    CTID54759604  8262-8743-6406-7105       2016-09-07  48567   SEG20\n",
       "4    CTID55429304  9030-1667-6058-6173       2016-03-03  48514   SEG15\n",
       "..            ...                  ...              ...    ...     ...\n",
       "104  CTID92439353  8159-1257-4706-7544       2016-01-17   5079   SEG11\n",
       "105  CTID43014391  8106-9789-1679-2552       2016-01-19   4195   SEG25\n",
       "106  CTID56692687  3620-5235-2101-3391       2016-12-15   2211   SEG22\n",
       "107  CTID52594996  8228-6661-8736-2838       2016-08-14   1570   SEG17\n",
       "108  CTID26555772  5734-5619-8469-4044       2016-01-11    683   SEG22\n",
       "\n",
       "[109 rows x 5 columns]"
      ]
     },
     "execution_count": 5,
     "metadata": {},
     "output_type": "execute_result"
    }
   ],
   "source": [
    "transactions_selector = transactions['id'].isin(frauds['transaction_id'])\n",
    "frauds_transactions = transactions[transactions_selector]\n",
    "fraud_trasactions_sort_by_decrescent_order = frauds_transactions.sort_values(by = 'value', ascending = False)\n",
    "fraud_trasactions_sort_by_decrescent_order.index = range(fraud_trasactions_sort_by_decrescent_order.shape[0])\n",
    "fraud_trasactions_sort_by_decrescent_order"
   ]
  },
  {
   "cell_type": "code",
   "execution_count": 6,
   "metadata": {},
   "outputs": [
    {
     "name": "stdout",
     "output_type": "stream",
     "text": [
      "O id da transferência de maior valor é CTID20567160 e seu valor é igual a 49155R$\n"
     ]
    }
   ],
   "source": [
    "print('O id da transferência de maior valor é {} e seu valor é igual a {}R$'.format(fraud_trasactions_sort_by_decrescent_order['id'].iloc[0],fraud_trasactions_sort_by_decrescent_order['value'].iloc[0]))                           "
   ]
  },
  {
   "cell_type": "markdown",
   "metadata": {},
   "source": [
    "- **Conclusão:** Através da seleção das fraudes dentro do *dataset* de transações foi possível obter o valor referente as transações fraudulentas, após isso, foi possível obter o \"id\" e o \"value\" da transação de maior valor sendo o \"id\" = CTID20567160 e o Valor = 49155R$"
   ]
  },
  {
   "cell_type": "code",
   "execution_count": null,
   "metadata": {},
   "outputs": [],
   "source": []
  }
 ],
 "metadata": {
  "kernelspec": {
   "display_name": "Python 3",
   "language": "python",
   "name": "python3"
  },
  "language_info": {
   "codemirror_mode": {
    "name": "ipython",
    "version": 3
   },
   "file_extension": ".py",
   "mimetype": "text/x-python",
   "name": "python",
   "nbconvert_exporter": "python",
   "pygments_lexer": "ipython3",
   "version": "3.8.5"
  }
 },
 "nbformat": 4,
 "nbformat_minor": 4
}
